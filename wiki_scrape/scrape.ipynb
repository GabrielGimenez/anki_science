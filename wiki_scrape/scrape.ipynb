{
 "cells": [
  {
   "cell_type": "code",
   "execution_count": 19,
   "metadata": {},
   "outputs": [],
   "source": [
    "import wikipedia\n",
    "import genanki"
   ]
  },
  {
   "cell_type": "markdown",
   "metadata": {},
   "source": [
    "Pick a glossary from [astronomy, computer science, ml, physics, probability]."
   ]
  },
  {
   "cell_type": "code",
   "execution_count": 38,
   "metadata": {},
   "outputs": [],
   "source": [
    "glossary = 'ml'"
   ]
  },
  {
   "cell_type": "markdown",
   "metadata": {},
   "source": [
    "Make a model ID unique to the glossary (ID needs to be between 1<<30 and 1<<31):"
   ]
  },
  {
   "cell_type": "code",
   "execution_count": 39,
   "metadata": {},
   "outputs": [],
   "source": [
    "hash = sum([(ord(x) - 65)*10**i for i, x in enumerate(glossary)])\n",
    "min_key = 1<<30\n",
    "max_key = 1<<31\n",
    "model_id = min_key + (hash % (max_key - min_key))"
   ]
  },
  {
   "cell_type": "markdown",
   "metadata": {},
   "source": [
    "Set up an Anki Deck:"
   ]
  },
  {
   "cell_type": "code",
   "execution_count": 40,
   "metadata": {},
   "outputs": [],
   "source": [
    "simple_model = genanki.Model(\n",
    "  model_id,\n",
    "  'Simple Model',\n",
    "  fields=[\n",
    "    {'name': 'Question'},\n",
    "    {'name': 'Answer'},\n",
    "  ],\n",
    "  templates=[\n",
    "    {\n",
    "      'name': 'Card 1',\n",
    "      'qfmt': '{{Question}}',\n",
    "      'afmt': '{{FrontSide}}<hr id=\"answer\">{{Answer}}',\n",
    "    },\n",
    "  ])\n",
    "\n",
    "deck = genanki.Deck(\n",
    "     model_id,\n",
    "    glossary + ' wikipedia summaries')"
   ]
  },
  {
   "cell_type": "markdown",
   "metadata": {},
   "source": [
    "Go through the wikipedia pages, skipping any that cause issues:"
   ]
  },
  {
   "cell_type": "code",
   "execution_count": null,
   "metadata": {},
   "outputs": [],
   "source": [
    "f = open(glossary.replace(' ', '_') + '_terms.txt', 'r')\n",
    "for l in f.readlines():\n",
    "    try:\n",
    "        page = wikipedia.page(l)\n",
    "    except (wikipedia.PageError, wikipedia.DisambiguationError, KeyError):\n",
    "        continue\n",
    "    summary = page.summary\n",
    "    note = genanki.Note(\n",
    "        simple_model,\n",
    "        fields=[l, summary + '\\n' + page.url]\n",
    "    )\n",
    "    deck.add_note(note)"
   ]
  },
  {
   "cell_type": "markdown",
   "metadata": {},
   "source": [
    "Save the deck which can then be imported:"
   ]
  },
  {
   "cell_type": "code",
   "execution_count": null,
   "metadata": {},
   "outputs": [],
   "source": [
    "genanki.Package(deck).write_to_file(glossary.replace(' ', '_') + '.apkg')"
   ]
  },
  {
   "cell_type": "code",
   "execution_count": null,
   "metadata": {},
   "outputs": [],
   "source": []
  }
 ],
 "metadata": {
  "kernelspec": {
   "display_name": "Python 3",
   "language": "python",
   "name": "python3"
  },
  "language_info": {
   "codemirror_mode": {
    "name": "ipython",
    "version": 3
   },
   "file_extension": ".py",
   "mimetype": "text/x-python",
   "name": "python",
   "nbconvert_exporter": "python",
   "pygments_lexer": "ipython3",
   "version": "3.6.10"
  }
 },
 "nbformat": 4,
 "nbformat_minor": 2
}
